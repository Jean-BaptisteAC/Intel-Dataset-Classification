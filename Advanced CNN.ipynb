{
 "cells": [
  {
   "cell_type": "markdown",
   "id": "849d0a99",
   "metadata": {},
   "source": [
    "# Import Data"
   ]
  },
  {
   "cell_type": "code",
   "execution_count": null,
   "id": "dd228737",
   "metadata": {
    "scrolled": true
   },
   "outputs": [],
   "source": [
    "import numpy as np\n",
    "import tensorflow as tf\n",
    "import os\n",
    "from sklearn.utils import shuffle           \n",
    "import matplotlib.pyplot as plt             \n",
    "import cv2                                               \n",
    "from tqdm import tqdm\n",
    "\n",
    "IMAGE_SIZE = (150, 150)\n",
    "# Chargement des données d'entraînement\n",
    "def load_data():\n",
    "    datasets = ['C:\\\\Users\\\\etern\\\\Documents\\\\PROJET_CNN_JB_1\\\\seg_train\\\\seg_train', 'C:\\\\Users\\\\etern\\\\Documents\\\\PROJET_CNN_JB_1\\\\seg_test\\\\seg_test']\n",
    "\n",
    "    output = []\n",
    "    #\n",
    "    class_names = ['mountain', 'street', 'glacier', 'buildings', 'sea', 'forest']\n",
    "    class_names_label = {class_name: i for i, class_name in enumerate(class_names)}\n",
    "    nb_classes = len(class_names)\n",
    "\n",
    "#TRANSFORMATION image matric + label en vector one-hot\n",
    "    for dataset in datasets:\n",
    "        images = []\n",
    "        labels = []\n",
    "        print(\"Loading {}\".format(dataset))\n",
    "\n",
    "        for folder in os.listdir(dataset):\n",
    "            label = class_names_label[folder]\n",
    "\n",
    "            for file in tqdm(os.listdir(os.path.join(dataset, folder))):\n",
    "                img_path = os.path.join(os.path.join(dataset, folder), file)\n",
    "                image = cv2.imread(img_path)\n",
    "                image = cv2.cvtColor(image, cv2.COLOR_BGR2RGB)\n",
    "                image = cv2.resize(image, IMAGE_SIZE)\n",
    "                images.append(image/255)\n",
    "                labels.append(label)\n",
    "\n",
    "        images = np.array(images, dtype='float32')\n",
    "        labels = np.array(labels, dtype='int32')\n",
    "        labels = tf.keras.utils.to_categorical(labels, nb_classes)  # Convert labels to one-hot vectors\n",
    "\n",
    "        output.append((images, labels))\n",
    "\n",
    "    return output"
   ]
  },
  {
   "cell_type": "code",
   "execution_count": null,
   "id": "570f413e",
   "metadata": {},
   "outputs": [],
   "source": [
    "(train_images, train_labels), (test_images, test_labels) = load_data()"
   ]
  },
  {
   "cell_type": "markdown",
   "id": "74dec2de",
   "metadata": {},
   "source": [
    "# Model"
   ]
  },
  {
   "cell_type": "code",
   "execution_count": null,
   "id": "74ecb1bb",
   "metadata": {},
   "outputs": [],
   "source": [
    "import tensorflow as tf\n",
    "from tensorflow import keras\n",
    "from keras import layers\n",
    "from keras.models import Sequential\n",
    "\n",
    "input_shape = (150, 150, 3)\n",
    "model = keras.Sequential(\n",
    "    [\n",
    "        \n",
    "        layers.Conv2D(32, 3, input_shape = input_shape, activation='relu', padding=\"same\", strides=1),\n",
    "        layers.Conv2D(32, 3, activation='relu', padding=\"same\", strides=1),\n",
    "        layers.MaxPool2D(pool_size=(2, 2), strides=2, padding='valid'),\n",
    "        \n",
    "        layers.Conv2D(64, 3, activation='relu', padding=\"same\", strides=1),\n",
    "        layers.Conv2D(64, 3, activation='relu', padding=\"same\", strides=1),\n",
    "        layers.MaxPool2D(pool_size=(2, 2), strides=2, padding='valid'),\n",
    "        \n",
    "        layers.Conv2D(128, 3, activation='relu', padding=\"same\", strides=1),\n",
    "        layers.Conv2D(128, 3, activation='relu', padding=\"same\", strides=1),\n",
    "        layers.MaxPool2D(pool_size=(2, 2), strides=2, padding='valid'),\n",
    "        \n",
    "        layers.Conv2D(64, 3, activation='relu', padding=\"same\", strides=1),\n",
    "        layers.Conv2D(64, 3, activation='relu', padding=\"same\", strides=1),\n",
    "        layers.MaxPool2D(pool_size=(2, 2), strides=2, padding='valid'),\n",
    "        \n",
    "        layers.Reshape([-1]),\n",
    "        layers.Dense(16, activation=\"relu\"),\n",
    "        layers.Dense(6, activation=\"softmax\"),\n",
    "    ]\n",
    ")\n",
    "model.compile(optimizer=tf.keras.optimizers.Adam(learning_rate=1e-3),\n",
    "              loss='categorical_crossentropy',\n",
    "              metrics='accuracy',\n",
    "                       )\n",
    "\n",
    "model.summary()"
   ]
  },
  {
   "cell_type": "code",
   "execution_count": null,
   "id": "214a320c",
   "metadata": {},
   "outputs": [],
   "source": [
    "hist = model.fit(x=train_images, y=train_labels, epochs=4, batch_size=16, validation_data=(test_images, test_labels))"
   ]
  },
  {
   "cell_type": "markdown",
   "id": "3513b223",
   "metadata": {},
   "source": [
    "# Plotting Results"
   ]
  },
  {
   "cell_type": "code",
   "execution_count": null,
   "id": "dd30056b",
   "metadata": {},
   "outputs": [],
   "source": [
    "accuracy = hist.history['accuracy']\n",
    "val_accuracy = hist.history['val_accuracy']\n",
    "plt.plot(accuracy, c='b', label=\"accuracy\")\n",
    "plt.plot(val_accuracy, c='r', label=\"validation accuracy\")\n",
    "plt.xlabel(\"Epoch\")\n",
    "plt.ylabel(\"Accuracy\")\n",
    "plt.legend()\n",
    "plt.show()\n"
   ]
  },
  {
   "cell_type": "code",
   "execution_count": null,
   "id": "fa1d91b8",
   "metadata": {},
   "outputs": [],
   "source": [
    "loss = hist.history['loss']\n",
    "val_loss = hist.history['val_loss']\n",
    "plt.plot(loss, c='b', label=\"loss\")\n",
    "plt.plot(val_loss, c='r', label=\"validation loss\")\n",
    "plt.xlabel(\"Epoch\")\n",
    "plt.ylabel(\"Loss\")\n",
    "plt.legend()\n",
    "plt.show()"
   ]
  },
  {
   "cell_type": "markdown",
   "id": "730617a5",
   "metadata": {},
   "source": [
    "# Confusion Matrix"
   ]
  },
  {
   "cell_type": "code",
   "execution_count": null,
   "id": "2b69370d",
   "metadata": {},
   "outputs": [],
   "source": [
    "import seaborn as sn\n",
    "from sklearn.metrics import confusion_matrix\n",
    "y_pred = np.argmax(model.predict(test_images), axis=1)\n",
    "y_true = np.argmax(test_labels, axis=1)\n",
    "\n",
    "cm = confusion_matrix(y_true, y_pred)\n",
    "\n",
    "classes = ['mountain', 'street', 'glacier', 'buildings', 'sea', 'forest']\n",
    "plt.figure(figsize=(8, 6))\n",
    "sn.heatmap(cm, annot=True, fmt=\"d\", xticklabels=classes, yticklabels=classes)\n",
    "plt.xlabel(\"Prédictions\")\n",
    "plt.ylabel(\"Valeurs réelles\")\n",
    "plt.title(\"Matrice de confusion\")\n",
    "plt.show()"
   ]
  }
 ],
 "metadata": {
  "kernelspec": {
   "display_name": "Python 3 (ipykernel)",
   "language": "python",
   "name": "python3"
  },
  "language_info": {
   "codemirror_mode": {
    "name": "ipython",
    "version": 3
   },
   "file_extension": ".py",
   "mimetype": "text/x-python",
   "name": "python",
   "nbconvert_exporter": "python",
   "pygments_lexer": "ipython3",
   "version": "3.10.9"
  }
 },
 "nbformat": 4,
 "nbformat_minor": 5
}
